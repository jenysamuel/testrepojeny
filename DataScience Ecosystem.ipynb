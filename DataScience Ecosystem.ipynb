{
 "cells": [
  {
   "cell_type": "markdown",
   "id": "51613db3-6f17-4a51-9690-d2bf57189ff9",
   "metadata": {},
   "source": [
    "# Data Science Tools and Ecosystem "
   ]
  },
  {
   "cell_type": "markdown",
   "id": "bed4a57b-a173-4bfd-a19d-e2b363c58417",
   "metadata": {},
   "source": [
    "### In this notebook, Data Science Tools and Ecosystem are summarized."
   ]
  },
  {
   "cell_type": "markdown",
   "id": "bb6fc915-7161-45dc-9abb-75fa0fc74674",
   "metadata": {},
   "source": [
    "***Objectives:***\n",
    "* Identify the criteria and roles for determining the language to learn.\n",
    "* Identify the users and benefits of Python.\n",
    "* Identify the users and uses of the R language.\n",
    "* Define SQL elements and list their benefits.\n",
    "* Review languages such as Java, Scala, C++, JavaScript, and Julia.\n",
    "* List the global communities for connecting with other users.\n",
    "\n"
   ]
  },
  {
   "cell_type": "markdown",
   "id": "2da0df13-ee96-4b2b-8a67-8a60ebde9194",
   "metadata": {},
   "source": [
    "##### Some of the commonly used libraries used by Data Scientists include:\n",
    "1. Pandas\n",
    "2. NumPy\n",
    "3. scikit learn\n",
    "4. Keras\n",
    "5. matplotlib\n",
    "6. seaborn\n"
   ]
  },
  {
   "cell_type": "markdown",
   "id": "1ea7aebb-ac92-4952-a94b-d6f69b22b43e",
   "metadata": {},
   "source": [
    "##### Some of the popular languages that Data Scientists use are:\n",
    "1. Python\n",
    "2. SQL\n",
    "3. R\n",
    "4. Julia\n",
    "5. Scala\n",
    "6. Java"
   ]
  },
  {
   "cell_type": "markdown",
   "id": "4b6a4061-95a5-4c9f-91f3-fb69ba22cc01",
   "metadata": {},
   "source": [
    "|Data Science Tools|\n",
    "|------------------|\n",
    "|Anaconda|\n",
    "|Jupiter Notebooks|\n",
    "|Visual Studio Code|"
   ]
  },
  {
   "cell_type": "markdown",
   "id": "c53bb304-f0cb-4247-a1d2-bb39f052365c",
   "metadata": {},
   "source": [
    "### Below are a few examples of evaluating arithmetic expressions in Python."
   ]
  },
  {
   "cell_type": "code",
   "execution_count": 4,
   "id": "453a4939-1919-4cb0-a732-2f3e60d24e74",
   "metadata": {
    "tags": []
   },
   "outputs": [
    {
     "data": {
      "text/plain": [
       "17"
      ]
     },
     "execution_count": 4,
     "metadata": {},
     "output_type": "execute_result"
    }
   ],
   "source": [
    "# This a simple arithmetic expression to mutiply then add integers\n",
    "(3*4)+5"
   ]
  },
  {
   "cell_type": "code",
   "execution_count": 8,
   "id": "f96bde17-6f12-46cf-966a-4c2b91c7138e",
   "metadata": {
    "tags": []
   },
   "outputs": [
    {
     "name": "stdout",
     "output_type": "stream",
     "text": [
      "3.3333333333333335\n"
     ]
    }
   ],
   "source": [
    "# This will convert 200 minutes to hours by diving by 60\n",
    "m=200\n",
    "h=m/60\n",
    "print(h)"
   ]
  },
  {
   "cell_type": "markdown",
   "id": "ce5e4dac-37d6-485e-b90c-ea99fd9726c6",
   "metadata": {},
   "source": [
    "## Author\n",
    "Jeny Rachel Samuel"
   ]
  },
  {
   "cell_type": "code",
   "execution_count": null,
   "id": "dd07a7ab-9cb7-42b7-9856-fafa5d916935",
   "metadata": {},
   "outputs": [],
   "source": []
  }
 ],
 "metadata": {
  "kernelspec": {
   "display_name": "Python",
   "language": "python",
   "name": "conda-env-python-py"
  },
  "language_info": {
   "codemirror_mode": {
    "name": "ipython",
    "version": 3
   },
   "file_extension": ".py",
   "mimetype": "text/x-python",
   "name": "python",
   "nbconvert_exporter": "python",
   "pygments_lexer": "ipython3",
   "version": "3.7.12"
  }
 },
 "nbformat": 4,
 "nbformat_minor": 5
}
